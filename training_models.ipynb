{
  "nbformat": 4,
  "nbformat_minor": 0,
  "metadata": {
    "colab": {
      "name": "training-models.ipynb",
      "provenance": [],
      "collapsed_sections": [],
      "authorship_tag": "ABX9TyOgZXk1l7acnQhJ1RRumFqh",
      "include_colab_link": true
    },
    "kernelspec": {
      "name": "python3",
      "display_name": "Python 3"
    }
  },
  "cells": [
    {
      "cell_type": "markdown",
      "metadata": {
        "id": "view-in-github",
        "colab_type": "text"
      },
      "source": [
        "<a href=\"https://colab.research.google.com/github/aachellis/machine-learning-practices/blob/main/training_models.ipynb\" target=\"_parent\"><img src=\"https://colab.research.google.com/assets/colab-badge.svg\" alt=\"Open In Colab\"/></a>"
      ]
    },
    {
      "cell_type": "markdown",
      "metadata": {
        "id": "1q5v2ZGee4Ly"
      },
      "source": [
        "# The Normal Equation"
      ]
    },
    {
      "cell_type": "code",
      "metadata": {
        "id": "K274HrWzevZT"
      },
      "source": [
        "# Generate some linear-looking data to test the equation on\r\n",
        "import numpy as np\r\n",
        "\r\n",
        "X = 2 * np.random.rand(100, 1)\r\n",
        "y = 4 + 3 * X + np.random.rand(100, 1)"
      ],
      "execution_count": 1,
      "outputs": []
    },
    {
      "cell_type": "code",
      "metadata": {
        "colab": {
          "base_uri": "https://localhost:8080/",
          "height": 269
        },
        "id": "bYWGJyqpfmz4",
        "outputId": "d8c46319-9433-4643-98a3-4671820efeef"
      },
      "source": [
        "# Getting the distribution of data in respect to the independent variabel by scatter plot.\r\n",
        "import matplotlib.pyplot as plt\r\n",
        "\r\n",
        "plt.scatter(X, y, s = 8)\r\n",
        "plt.show()"
      ],
      "execution_count": 6,
      "outputs": [
        {
          "output_type": "display_data",
          "data": {
            "image/png": "[encoded data removed]",
            "text/plain": [
              "<Figure size 432x288 with 1 Axes>"
            ]
          },
          "metadata": {
            "tags": [],
            "needs_background": "light"
          }
        }
      ]
    },
    {
      "cell_type": "code",
      "metadata": {
        "colab": {
          "base_uri": "https://localhost:8080/"
        },
        "id": "d-xcMKqff1WY",
        "outputId": "5dae2468-767c-40ea-b8dd-2b4c6a3e2d1e"
      },
      "source": [
        "# Compute thetha hat using the normal equation\r\n",
        "# Add X0 = 1 in each instance\r\n",
        "X_b = np.c_[np.ones((100, 1)), X]\r\n",
        "thetha_best = np.linalg.inv(X_b.T.dot(X_b)).dot(X_b.T).dot(y)\r\n",
        "thetha_best"
      ],
      "execution_count": 8,
      "outputs": [
        {
          "output_type": "execute_result",
          "data": {
            "text/plain": [
              "array([[4.62347516],\n",
              "       [2.95660276]])"
            ]
          },
          "metadata": {
            "tags": []
          },
          "execution_count": 8
        }
      ]
    },
    {
      "cell_type": "code",
      "metadata": {
        "colab": {
          "base_uri": "https://localhost:8080/"
        },
        "id": "yFwiKO0Lg4P_",
        "outputId": "dcd0ffd3-3704-45c2-e7eb-ed4b7d752820"
      },
      "source": [
        "# Make predictions using thetha hat\r\n",
        "X_new = np.array([[0], [2]])\r\n",
        "X_new_b = np.c_[np.ones((2,1)), X_new]\r\n",
        "y_predict = X_new_b.dot(thetha_best) \r\n",
        "y_predict"
      ],
      "execution_count": 9,
      "outputs": [
        {
          "output_type": "execute_result",
          "data": {
            "text/plain": [
              "array([[ 4.62347516],\n",
              "       [10.53668069]])"
            ]
          },
          "metadata": {
            "tags": []
          },
          "execution_count": 9
        }
      ]
    },
    {
      "cell_type": "code",
      "metadata": {
        "colab": {
          "base_uri": "https://localhost:8080/",
          "height": 265
        },
        "id": "ecGVU4NhhnE5",
        "outputId": "9f3608a4-3bee-4458-c980-ba9d6a62be61"
      },
      "source": [
        "# Plot the model's prediction\r\n",
        "plt.plot(X_new, y_predict, \"r-\")\r\n",
        "plt.plot(X, y, \"b.\")\r\n",
        "plt.axis([0, 2, 0, 15])\r\n",
        "plt.show()"
      ],
      "execution_count": 11,
      "outputs": [
        {
          "output_type": "display_data",
          "data": {
            "image/png": "[encoded data removed]",
            "text/plain": [
              "<Figure size 432x288 with 1 Axes>"
            ]
          },
          "metadata": {
            "tags": [],
            "needs_background": "light"
          }
        }
      ]
    },
    {
      "cell_type": "code",
      "metadata": {
        "colab": {
          "base_uri": "https://localhost:8080/"
        },
        "id": "P56BcgItiB1A",
        "outputId": "0a4788eb-bfdf-4d4b-cc0f-b32120424239"
      },
      "source": [
        "# Performing Linear Regression using scikit learn\r\n",
        "from sklearn.linear_model import LinearRegression\r\n",
        "\r\n",
        "lin_reg = LinearRegression()\r\n",
        "lin_reg.fit(X, y)\r\n",
        "lin_reg.intercept_, lin_reg.coef_"
      ],
      "execution_count": 13,
      "outputs": [
        {
          "output_type": "execute_result",
          "data": {
            "text/plain": [
              "(array([4.62347516]), array([[2.95660276]]))"
            ]
          },
          "metadata": {
            "tags": []
          },
          "execution_count": 13
        }
      ]
    },
    {
      "cell_type": "markdown",
      "metadata": {
        "id": "_DcmGM1OinIQ"
      },
      "source": [
        "The linear regression class is base on Least Squares method. Lets directly use that."
      ]
    },
    {
      "cell_type": "code",
      "metadata": {
        "colab": {
          "base_uri": "https://localhost:8080/"
        },
        "id": "-naKrZUHivfC",
        "outputId": "1afdfeb3-bc23-46b1-b687-535da0dfcd14"
      },
      "source": [
        "theta_best_svd, residuals, rank, s = np.linalg.lstsq(X_b, y, rcond = 1e-6)\r\n",
        "theta_best_svd"
      ],
      "execution_count": 14,
      "outputs": [
        {
          "output_type": "execute_result",
          "data": {
            "text/plain": [
              "array([[4.62347516],\n",
              "       [2.95660276]])"
            ]
          },
          "metadata": {
            "tags": []
          },
          "execution_count": 14
        }
      ]
    },
    {
      "cell_type": "markdown",
      "metadata": {
        "id": "oiOItaS7njqm"
      },
      "source": [
        "# Gradient Descent"
      ]
    },
    {
      "cell_type": "code",
      "metadata": {
        "colab": {
          "base_uri": "https://localhost:8080/"
        },
        "id": "A4yS85dknm2i",
        "outputId": "8734f2c2-8143-4854-edd6-1c4707cd309c"
      },
      "source": [
        "# Quick implementation of the Gradient Descent Step\r\n",
        "eta = 0.1 # Learning Rate\r\n",
        "n_iterations = 1000\r\n",
        "m = 100\r\n",
        "\r\n",
        "theta = np.random.randn(2,1) # Random initialization\r\n",
        "\r\n",
        "for iteration in range(n_iterations):\r\n",
        "    gradients = 2/m * X_b.T.dot(X_b.dot(theta) - y)\r\n",
        "    theta = theta - eta * gradients\r\n",
        "\r\n",
        "theta"
      ],
      "execution_count": 18,
      "outputs": [
        {
          "output_type": "execute_result",
          "data": {
            "text/plain": [
              "array([[4.62347516],\n",
              "       [2.95660276]])"
            ]
          },
          "metadata": {
            "tags": []
          },
          "execution_count": 18
        }
      ]
    },
    {
      "cell_type": "markdown",
      "metadata": {
        "id": "5YOu120WrtbO"
      },
      "source": [
        "Implementing Stocastic gradient descent using a simple learning schedule."
      ]
    },
    {
      "cell_type": "code",
      "metadata": {
        "colab": {
          "base_uri": "https://localhost:8080/"
        },
        "id": "dtra3SF8r0eq",
        "outputId": "64694c33-2558-452c-b3fa-623b0435e78a"
      },
      "source": [
        "n_epochs = 50\r\n",
        "t0, t1 = 5, 50  # Learning schedules hyper parameters\r\n",
        "\r\n",
        "def learning_schedules(t):\r\n",
        "    return t0/(t+t1)\r\n",
        "\r\n",
        "theta = np.random.randn(2, 1) # Random initialization\r\n",
        "\r\n",
        "for epoch in range(n_epochs):\r\n",
        "    for i in range(m):\r\n",
        "        random_index = np.random.randint(m)\r\n",
        "        xi = X_b[random_index : random_index+1]\r\n",
        "        yi = y[random_index : random_index+1]\r\n",
        "        gradients = 2 * xi.T.dot(xi.dot(theta) - yi)\r\n",
        "        eta = learning_schedules(epoch * m + i)\r\n",
        "        theta = theta - eta * gradients\r\n",
        "    \r\n",
        "theta"
      ],
      "execution_count": 19,
      "outputs": [
        {
          "output_type": "execute_result",
          "data": {
            "text/plain": [
              "array([[4.6097244 ],\n",
              "       [2.97526025]])"
            ]
          },
          "metadata": {
            "tags": []
          },
          "execution_count": 19
        }
      ]
    },
    {
      "cell_type": "markdown",
      "metadata": {
        "id": "QIqRAsdKt2SH"
      },
      "source": [
        "Using sklearn sgd regressor."
      ]
    },
    {
      "cell_type": "code",
      "metadata": {
        "colab": {
          "base_uri": "https://localhost:8080/"
        },
        "id": "Od0RmWcyt5wL",
        "outputId": "52689c12-eb41-4726-a607-353ed9f492be"
      },
      "source": [
        "from sklearn.linear_model import SGDRegressor\r\n",
        "\r\n",
        "sgd_reg = SGDRegressor(max_iter = 1000, tol = 1e-3, penalty = None, eta0 = 0.1)\r\n",
        "sgd_reg.fit(X, y.ravel())\r\n",
        "\r\n",
        "sgd_reg.intercept_, sgd_reg.coef_"
      ],
      "execution_count": 20,
      "outputs": [
        {
          "output_type": "execute_result",
          "data": {
            "text/plain": [
              "(array([4.59168336]), array([2.99735022]))"
            ]
          },
          "metadata": {
            "tags": []
          },
          "execution_count": 20
        }
      ]
    }
  ]
}